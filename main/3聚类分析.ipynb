{
 "cells": [
  {
   "cell_type": "code",
   "execution_count": 1,
   "metadata": {
    "pycharm": {
     "name": "#%%\n"
    }
   },
   "outputs": [
    {
     "ename": "FileNotFoundError",
     "evalue": "[Errno 2] No such file or directory: 'all_cyclings_paths.pkl'",
     "output_type": "error",
     "traceback": [
      "\u001B[1;31m---------------------------------------------------------------------------\u001B[0m",
      "\u001B[1;31mFileNotFoundError\u001B[0m                         Traceback (most recent call last)",
      "Cell \u001B[1;32mIn [1], line 6\u001B[0m\n\u001B[0;32m      1\u001B[0m \u001B[38;5;28;01mimport\u001B[39;00m \u001B[38;5;21;01mpickle\u001B[39;00m\n\u001B[0;32m      2\u001B[0m \u001B[38;5;124;03m'''\u001B[39;00m\n\u001B[0;32m      3\u001B[0m \u001B[38;5;124;03m提取开始时间、结束时间、开始lat、开始lng、结束lat、结束lng、骑行时长、预计骑行时间、距离\u001B[39;00m\n\u001B[0;32m      4\u001B[0m \u001B[38;5;124;03m保存成文件\u001B[39;00m\n\u001B[0;32m      5\u001B[0m \u001B[38;5;124;03m'''\u001B[39;00m\n\u001B[1;32m----> 6\u001B[0m all_cyclings_paths \u001B[38;5;241m=\u001B[39m pickle\u001B[38;5;241m.\u001B[39mload(\u001B[38;5;28;43mopen\u001B[39;49m\u001B[43m(\u001B[49m\u001B[38;5;124;43m\"\u001B[39;49m\u001B[38;5;124;43mall_cyclings_paths.pkl\u001B[39;49m\u001B[38;5;124;43m\"\u001B[39;49m\u001B[43m,\u001B[49m\u001B[43m \u001B[49m\u001B[38;5;124;43m\"\u001B[39;49m\u001B[38;5;124;43mrb\u001B[39;49m\u001B[38;5;124;43m\"\u001B[39;49m\u001B[43m)\u001B[49m)\n\u001B[0;32m      7\u001B[0m \u001B[38;5;28;01mwith\u001B[39;00m \u001B[38;5;28mopen\u001B[39m(\u001B[38;5;124m\"\u001B[39m\u001B[38;5;124mselected_cycs.csv\u001B[39m\u001B[38;5;124m\"\u001B[39m,\u001B[38;5;124m'\u001B[39m\u001B[38;5;124mw\u001B[39m\u001B[38;5;124m'\u001B[39m,encoding\u001B[38;5;241m=\u001B[39m\u001B[38;5;124m\"\u001B[39m\u001B[38;5;124mutf-8\u001B[39m\u001B[38;5;124m\"\u001B[39m) \u001B[38;5;28;01mas\u001B[39;00m f:\n\u001B[0;32m      8\u001B[0m     f\u001B[38;5;241m.\u001B[39mwrite(\u001B[38;5;124m'\u001B[39m\u001B[38;5;124m,\u001B[39m\u001B[38;5;124m'\u001B[39m\u001B[38;5;241m.\u001B[39mjoin([\u001B[38;5;124m\"\u001B[39m\u001B[38;5;124mstart_time\u001B[39m\u001B[38;5;124m\"\u001B[39m,\u001B[38;5;124m\"\u001B[39m\u001B[38;5;124mend_time\u001B[39m\u001B[38;5;124m\"\u001B[39m,\u001B[38;5;124m\"\u001B[39m\u001B[38;5;124mstart_lat\u001B[39m\u001B[38;5;124m\"\u001B[39m,\u001B[38;5;124m\"\u001B[39m\u001B[38;5;124mstart_lng\u001B[39m\u001B[38;5;124m\"\u001B[39m,\u001B[38;5;124m\"\u001B[39m\u001B[38;5;124mend_lat\u001B[39m\u001B[38;5;124m\"\u001B[39m,\u001B[38;5;124m\"\u001B[39m\u001B[38;5;124mend_lng\u001B[39m\u001B[38;5;124m\"\u001B[39m,\u001B[38;5;124m\"\u001B[39m\u001B[38;5;124mact_duration\u001B[39m\u001B[38;5;124m\"\u001B[39m,\u001B[38;5;124m\"\u001B[39m\u001B[38;5;124mduration\u001B[39m\u001B[38;5;124m\"\u001B[39m,\u001B[38;5;124m\"\u001B[39m\u001B[38;5;124mdistance\u001B[39m\u001B[38;5;124m\"\u001B[39m]))\n",
      "\u001B[1;31mFileNotFoundError\u001B[0m: [Errno 2] No such file or directory: 'all_cyclings_paths.pkl'"
     ]
    }
   ],
   "source": [
    "import pickle\n",
    "'''\n",
    "提取开始时间、结束时间、开始lat、开始lng、结束lat、结束lng、骑行时长、预计骑行时间、距离\n",
    "保存成文件\n",
    "'''\n",
    "all_cyclings_paths = pickle.load(open(\"all_cyclings_paths.pkl\", \"rb\"))\n",
    "with open(\"selected_cycs.csv\",'w',encoding=\"utf-8\") as f:\n",
    "    f.write(','.join([\"start_time\",\"end_time\",\"start_lat\",\"start_lng\",\"end_lat\",\"end_lng\",\"act_duration\",\"duration\",\"distance\"]))\n",
    "    f.write('\\n')\n",
    "    for x,bike in enumerate(all_cyclings_paths):\n",
    "        cycs=bike[\"cyclings\"]\n",
    "        for cyc in cycs:\n",
    "#             print(cyc)\n",
    "            start_time=cyc['start_time']\n",
    "            act_duration=cyc['path']['act_duration']\n",
    "            start_lat=cyc['start_pos'][0]\n",
    "            start_lng=cyc['start_pos'][1]\n",
    "            end_lat=cyc['end_pos'][0]\n",
    "            end_lng=cyc['end_pos'][1]\n",
    "            duration=cyc['path']['duration']\n",
    "            distance=cyc['path'][\"distance\"]\n",
    "            end_time=cyc['end_time']\n",
    "            if distance>10 and act_duration>10  :#筛选预计时间>0和 实际时间/预计时间<5的记录\n",
    "                f.write(','.join([str(i) for i in [start_time,end_time,start_lat,start_lng,end_lat,end_lng,act_duration,duration,distance]]))\n",
    "                f.write('\\n')\n",
    "        print('正在处理第%s辆单车'%x,end='\\r')"
   ]
  },
  {
   "cell_type": "code",
   "execution_count": null,
   "metadata": {
    "collapsed": true,
    "pycharm": {
     "name": "#%%\n"
    }
   },
   "outputs": [],
   "source": [
    "import pandas as pd\n",
    "import matplotlib.pyplot as plt \n",
    "from mpl_toolkits.mplot3d import Axes3D \n",
    "\n",
    "'''\n",
    "读取保存的文件\n",
    "将时间戳转化成0-24的float\n",
    "'''\n",
    "f=pd.read_csv(\"selected_cycs.csv\")\n",
    "f2=pd.read_csv(\"allBikes2019.03.28 24h.csv\")\n",
    "times=list(sorted(set(f2['time'])))\n",
    "f[\"start_time\"]=f[\"start_time\"].apply(lambda x:times.index(x)*24/len(times))\n",
    "f[\"end_time\"]=f[\"end_time\"].apply(lambda x:times.index(x)*24/len(times))"
   ]
  },
  {
   "cell_type": "code",
   "execution_count": null,
   "metadata": {
    "collapsed": true,
    "pycharm": {
     "name": "#%%\n"
    }
   },
   "outputs": [],
   "source": [
    "from sklearn import preprocessing\n",
    "'''\n",
    "提取所需列\n",
    "z_score标准化处理\n",
    "'''\n",
    "X_scaled = preprocessing.scale(f[['start_time','end_time','distance','act_duration',]])\n",
    "X=X_scaled"
   ]
  },
  {
   "cell_type": "code",
   "execution_count": null,
   "metadata": {
    "pycharm": {
     "name": "#%%\n"
    }
   },
   "outputs": [],
   "source": [
    "'''\n",
    "绘制图4\n",
    "'''\n",
    "from sklearn.cluster import KMeans\n",
    "x=X\n",
    "distortions = []\n",
    "for i in range(1,11):\n",
    "    km = KMeans(n_clusters=i,init=\"k-means++\")\n",
    "    km.fit(x)\n",
    "    #获取K-means算法的SSE\n",
    "    distortions.append(km.inertia_)\n",
    "#绘制曲线\n",
    "plt.plot(range(1,11),distortions,marker=\"o\")\n",
    "plt.xlabel(\"clusters\")\n",
    "plt.ylabel(\"SSE\")\n",
    "plt.show()"
   ]
  },
  {
   "cell_type": "code",
   "execution_count": null,
   "metadata": {
    "pycharm": {
     "name": "#%%\n"
    }
   },
   "outputs": [],
   "source": [
    "'''\n",
    "选取n=3进行聚类\n",
    "将聚类标签添加到原df\n",
    "保存聚类结果\n",
    "'''\n",
    "from sklearn.cluster import KMeans\n",
    "km = KMeans(n_clusters=3,init=\"k-means++\")\n",
    "km.fit(X)\n",
    "f['labels']=km.labels_\n",
    "f.to_csv(\"clustering_res.csv\",index=False,encoding='utf-8')"
   ]
  }
 ],
 "metadata": {
  "kernelspec": {
   "display_name": "Python 3",
   "language": "python",
   "name": "python3"
  },
  "language_info": {
   "codemirror_mode": {
    "name": "ipython",
    "version": 3
   },
   "file_extension": ".py",
   "mimetype": "text/x-python",
   "name": "python",
   "nbconvert_exporter": "python",
   "pygments_lexer": "ipython3",
   "version": "3.6.2"
  }
 },
 "nbformat": 4,
 "nbformat_minor": 2
}