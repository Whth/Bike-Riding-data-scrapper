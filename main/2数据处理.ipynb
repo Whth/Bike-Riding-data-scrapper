{
 "cells": [
  {
   "cell_type": "code",
   "execution_count": 15,
   "outputs": [
    {
     "name": "stdout",
     "output_type": "stream",
     "text": [
      "                    time      bikeno         lat        lng\n",
      "0       2022-11-15 23:59  9030249852  120.693405  27.929291\n",
      "1       2022-11-15 23:59  9020146466  120.694123  27.929934\n",
      "2       2022-11-15 23:59  9020035769  120.694528  27.930329\n",
      "3       2022-11-15 23:59  9020155216  120.705297  27.930061\n",
      "4       2022-11-15 23:59  9020158766  120.706612  27.930275\n",
      "...                  ...         ...         ...        ...\n",
      "307827  2022-11-16 23:58  9020228011  120.707673  27.918834\n",
      "307828  2022-11-16 23:58  9020141361  120.707727  27.918790\n",
      "307829  2022-11-16 23:58  9020156776  120.707734  27.918791\n",
      "307830  2022-11-16 23:58  9020241304  120.707742  27.918808\n",
      "307831  2022-11-16 23:59  9020186956  120.707750  27.918754\n",
      "\n",
      "[307832 rows x 4 columns]\n"
     ]
    }
   ],
   "source": [
    "import pandas as pd\n",
    "'''\n",
    "读取原始文件\n",
    "增加列名、去重\n",
    "'''\n",
    "\n",
    "raw_df=pd.read_csv(r\"L:\\pycharm projects\\Bike_Scrapper\\RecoveredBikeData\\2022-11\\16\\allBikes.csv\",sep='\\t',header=None)\n",
    "raw_df.columns=['time','bikeno','lat','lng']\n",
    "raw_df.drop_duplicates(subset=[\"time\",\"bikeno\"],keep=\"last\",inplace=True)\n",
    "print(raw_df)"
   ],
   "metadata": {
    "collapsed": false
   }
  },
  {
   "cell_type": "code",
   "execution_count": 16,
   "metadata": {},
   "outputs": [
    {
     "name": "stdout",
     "output_type": "stream",
     "text": [
      "                    time      bikeno         lat        lng\n",
      "0       2022-11-15 23:59  9030249852  120.693405  27.929291\n",
      "1       2022-11-15 23:59  9020146466  120.694123  27.929934\n",
      "2       2022-11-15 23:59  9020035769  120.694528  27.930329\n",
      "3       2022-11-15 23:59  9020155216  120.705297  27.930061\n",
      "4       2022-11-15 23:59  9020158766  120.706612  27.930275\n",
      "...                  ...         ...         ...        ...\n",
      "307827  2022-11-16 23:58  9020228011  120.707673  27.918834\n",
      "307828  2022-11-16 23:58  9020141361  120.707727  27.918790\n",
      "307829  2022-11-16 23:58  9020156776  120.707734  27.918791\n",
      "307830  2022-11-16 23:58  9020241304  120.707742  27.918808\n",
      "307831  2022-11-16 23:59  9020186956  120.707750  27.918754\n",
      "\n",
      "[307832 rows x 4 columns]\n",
      "3875 of 3876 time cost:392 s.\r"
     ]
    }
   ],
   "source": [
    "import pandas as pd\n",
    "import time,datetime,pickle\n",
    "'''\n",
    "从原始文件构建观察矩阵\n",
    "并持久化变量\n",
    "'''\n",
    "def getUnavailableTimestamps(raw_df,bikeno):\n",
    "    '''\n",
    "    返回bikeno所有的不可用时间，返回格式为set\n",
    "    '''\n",
    "    all_timestamps=set(raw_df[\"time\"])\n",
    "    bikeno_timestamps=set(raw_df.query(\"bikeno==@bikeno\")[\"time\"])\n",
    "    return all_timestamps-bikeno_timestamps\n",
    "        \n",
    "def toMatrix(raw_df):\n",
    "    '''\n",
    "    将原始pd转化成matrix格式\n",
    "    columns为时间点\n",
    "    index为bikeno\n",
    "    0表示unavailable,1表示available\n",
    "    '''\n",
    "    time1=time.time()\n",
    "    all_bikes=list(set(raw_df[\"bikeno\"]))\n",
    "    all_timestamps=sorted([datetime.datetime.strptime(i,\"%Y-%m-%d %H:%M\") for i in (set(raw_df[\"time\"]))])\n",
    "    bikes_timestamps_matrix=pd.DataFrame(data=1,index=all_bikes,columns=all_timestamps,dtype=int)#初始化所有值都为1:available\n",
    "    for x,bike in enumerate(all_bikes):\n",
    "        print(\"%s of %s time cost:%s s.\"%(x,len(all_bikes),int(time.time()-time1)),end='\\r')\n",
    "        unavailable_timestamps=getUnavailableTimestamps(raw_df,bike)\n",
    "        for timestamp in unavailable_timestamps:\n",
    "            bikes_timestamps_matrix.loc[bike,timestamp]=0            \n",
    "    return bikes_timestamps_matrix\n",
    "\n",
    "print(raw_df)\n",
    "matrix=toMatrix(raw_df)#从原始文件构建为观察矩阵\n",
    "pickle.dump(matrix, open(\"matrix.pkl\", \"wb\"))#持久化变量"
   ]
  },
  {
   "cell_type": "code",
   "execution_count": 44,
   "metadata": {
    "collapsed": true
   },
   "outputs": [
    {
     "name": "stdout",
     "output_type": "stream",
     "text": [
      "正在处理第3524辆 车辆编号为9080086525 ,已用时322 s.\r"
     ]
    }
   ],
   "source": [
    "import re\n",
    "'''\n",
    "从观察矩阵中发现骑行\n",
    "将骑行信息持久化存储\n",
    "'''\n",
    "def getEachCyclingPos(bikeno,raw_df,matrix):\n",
    "    '''\n",
    "    line为matrix中的一行，即各个时间点的status列表\n",
    "    line smaple:[0,0,0,0,1,1,1,1,1,1,1,0,0,0,0,1,1,1,0,1]\n",
    "    找到所有形如正则中10+1的所有结果\n",
    "    返回start和end\n",
    "    return smaple:[(10,16),(17,20)]左闭右开\n",
    "    '''\n",
    "    line=matrix.loc[bikeno,:]\n",
    "    s=''.join([str(i) for i in line])#list转换成str\n",
    "    res=[]\n",
    "    for i in range(len(s)):#对s的每个字串进行分别匹配，返回匹配结果，解决re只能找到1001001中一个1001的不足\n",
    "        temp=[i.span() for i in re.finditer('10+1',s[i:])]#利用现成的re库\n",
    "        temp=[(x[0]+i,x[1]+i) for x in temp]\n",
    "        res+=temp\n",
    "    res=set(res)\n",
    "    timestamps=matrix.columns\n",
    "    rides=[]\n",
    "    for i in res:\n",
    "        '''\n",
    "        这一段需要注意开始骑行的时间与获取位置的时间不完全一致：\n",
    "        假设一段骑行为100001\n",
    "        开始时间按照第一个0的时间计算，结束时间按照最后一个1计算\n",
    "        开始位置按照第一个1查找，结束位置按照最后一个1查找\n",
    "        '''\n",
    "        start_time=timestamps[i[0]+1].strftime(\"%Y-%m-%d %H:%M\") #开始时间为状态1的下一个时间点\n",
    "        end_time=timestamps[i[1]-1].strftime(\"%Y-%m-%d %H:%M\")#结束时间就是状态1的时间点,注意是左闭右开，所以此处要减去1\n",
    "        start_time_act=timestamps[i[0]].strftime(\"%Y-%m-%d %H:%M\")#查询开始位置应该是开始使用前的status==1的时间点\n",
    "        \n",
    "        start_item=raw_df.query(\"bikeno==@bikeno\").query(\"time==@start_time_act\")#获取开始时间的位置信息只能由状态1获得\n",
    "        start_pos=[round(float(i),6) for i in (start_item['lat'],start_item['lng'])]\n",
    "        \n",
    "        end_item=raw_df.query(\"bikeno==@bikeno\").query(\"time==@end_time\")\n",
    "        end_pos=[round(float(i),6) for i in (end_item['lat'],end_item['lng'])]\n",
    "        \n",
    "        rides.append({\"start_time\":start_time,\"end_time\":end_time,\"start_pos\":start_pos,\"end_pos\":end_pos})\n",
    "    return rides\n",
    "\n",
    "def getALLCyclingPos(raw_df,matrix):\n",
    "    bikes=matrix.index\n",
    "    res=[]\n",
    "    start_time=time.time()\n",
    "    for x,bike in enumerate(bikes):\n",
    "        print(\"正在处理第%s辆 车辆编号为%s ,已用时%s s.\"%(x,bike,int(time.time()-start_time)),end='\\r')\n",
    "        resdict={}\n",
    "        resdict[\"bikeno\"]=bike\n",
    "        resdict[\"cyclings\"]=getEachCyclingPos(bike,raw_df,matrix)\n",
    "        res.append(resdict)\n",
    "    return res\n",
    "\n",
    "matrix = pickle.load(open(\"matrix.pkl\", \"rb\"))#加载观察矩阵\n",
    "all_cyclings_pos=getALLCyclingPos(raw_df,matrix)#发现骑行\n",
    "pickle.dump(all_cyclings_pos, open(\"all_cyclings_pos.pkl\", \"wb\"))#持久化变量"
   ]
  },
  {
   "cell_type": "code",
   "execution_count": 6,
   "metadata": {
    "collapsed": true
   },
   "outputs": [
    {
     "name": "stderr",
     "output_type": "stream",
     "text": [
      "IOPub data rate exceeded.\n",
      "The notebook server will temporarily stop sending output\n",
      "to the client in order to avoid crashing it.\n",
      "To change this limit, set the config variable\n",
      "`--NotebookApp.iopub_data_rate_limit`.\n",
      "\n",
      "Current values:\n",
      "NotebookApp.iopub_data_rate_limit=1000000.0 (bytes/sec)\n",
      "NotebookApp.rate_limit_window=3.0 (secs)\n",
      "\n"
     ]
    },
    {
     "name": "stdout",
     "output_type": "stream",
     "text": [
      "{\"errcode\":10044,\"errmsg\":\"USER_DAILY_QUERY_OVER_LIMIT\"}\n",
      "10607正在获取第414辆车辆9020162765 的第24次骑行路径,已用时903s.\r"
     ]
    },
    {
     "ename": "Exception",
     "evalue": "",
     "output_type": "error",
     "traceback": [
      "\u001B[1;31m---------------------------------------------------------------------------\u001B[0m",
      "\u001B[1;31mTimeoutError\u001B[0m                              Traceback (most recent call last)",
      "File \u001B[1;32m~\\AppData\\Local\\Programs\\Python\\Python310\\lib\\site-packages\\urllib3\\connection.py:174\u001B[0m, in \u001B[0;36mHTTPConnection._new_conn\u001B[1;34m(self)\u001B[0m\n\u001B[0;32m    173\u001B[0m \u001B[38;5;28;01mtry\u001B[39;00m:\n\u001B[1;32m--> 174\u001B[0m     conn \u001B[38;5;241m=\u001B[39m connection\u001B[38;5;241m.\u001B[39mcreate_connection(\n\u001B[0;32m    175\u001B[0m         (\u001B[38;5;28mself\u001B[39m\u001B[38;5;241m.\u001B[39m_dns_host, \u001B[38;5;28mself\u001B[39m\u001B[38;5;241m.\u001B[39mport), \u001B[38;5;28mself\u001B[39m\u001B[38;5;241m.\u001B[39mtimeout, \u001B[38;5;241m*\u001B[39m\u001B[38;5;241m*\u001B[39mextra_kw\n\u001B[0;32m    176\u001B[0m     )\n\u001B[0;32m    178\u001B[0m \u001B[38;5;28;01mexcept\u001B[39;00m SocketTimeout:\n",
      "File \u001B[1;32m~\\AppData\\Local\\Programs\\Python\\Python310\\lib\\site-packages\\urllib3\\util\\connection.py:95\u001B[0m, in \u001B[0;36mcreate_connection\u001B[1;34m(address, timeout, source_address, socket_options)\u001B[0m\n\u001B[0;32m     94\u001B[0m \u001B[38;5;28;01mif\u001B[39;00m err \u001B[38;5;129;01mis\u001B[39;00m \u001B[38;5;129;01mnot\u001B[39;00m \u001B[38;5;28;01mNone\u001B[39;00m:\n\u001B[1;32m---> 95\u001B[0m     \u001B[38;5;28;01mraise\u001B[39;00m err\n\u001B[0;32m     97\u001B[0m \u001B[38;5;28;01mraise\u001B[39;00m socket\u001B[38;5;241m.\u001B[39merror(\u001B[38;5;124m\"\u001B[39m\u001B[38;5;124mgetaddrinfo returns an empty list\u001B[39m\u001B[38;5;124m\"\u001B[39m)\n",
      "File \u001B[1;32m~\\AppData\\Local\\Programs\\Python\\Python310\\lib\\site-packages\\urllib3\\util\\connection.py:85\u001B[0m, in \u001B[0;36mcreate_connection\u001B[1;34m(address, timeout, source_address, socket_options)\u001B[0m\n\u001B[0;32m     84\u001B[0m     sock\u001B[38;5;241m.\u001B[39mbind(source_address)\n\u001B[1;32m---> 85\u001B[0m \u001B[43msock\u001B[49m\u001B[38;5;241;43m.\u001B[39;49m\u001B[43mconnect\u001B[49m\u001B[43m(\u001B[49m\u001B[43msa\u001B[49m\u001B[43m)\u001B[49m\n\u001B[0;32m     86\u001B[0m \u001B[38;5;28;01mreturn\u001B[39;00m sock\n",
      "\u001B[1;31mTimeoutError\u001B[0m: [WinError 10060] 由于连接方在一段时间后没有正确答复或连接的主机没有反应，连接尝试失败。",
      "\nDuring handling of the above exception, another exception occurred:\n",
      "\u001B[1;31mConnectTimeoutError\u001B[0m                       Traceback (most recent call last)",
      "File \u001B[1;32m~\\AppData\\Local\\Programs\\Python\\Python310\\lib\\site-packages\\urllib3\\connectionpool.py:703\u001B[0m, in \u001B[0;36mHTTPConnectionPool.urlopen\u001B[1;34m(self, method, url, body, headers, retries, redirect, assert_same_host, timeout, pool_timeout, release_conn, chunked, body_pos, **response_kw)\u001B[0m\n\u001B[0;32m    702\u001B[0m \u001B[38;5;66;03m# Make the request on the httplib connection object.\u001B[39;00m\n\u001B[1;32m--> 703\u001B[0m httplib_response \u001B[38;5;241m=\u001B[39m \u001B[38;5;28;43mself\u001B[39;49m\u001B[38;5;241;43m.\u001B[39;49m\u001B[43m_make_request\u001B[49m\u001B[43m(\u001B[49m\n\u001B[0;32m    704\u001B[0m \u001B[43m    \u001B[49m\u001B[43mconn\u001B[49m\u001B[43m,\u001B[49m\n\u001B[0;32m    705\u001B[0m \u001B[43m    \u001B[49m\u001B[43mmethod\u001B[49m\u001B[43m,\u001B[49m\n\u001B[0;32m    706\u001B[0m \u001B[43m    \u001B[49m\u001B[43murl\u001B[49m\u001B[43m,\u001B[49m\n\u001B[0;32m    707\u001B[0m \u001B[43m    \u001B[49m\u001B[43mtimeout\u001B[49m\u001B[38;5;241;43m=\u001B[39;49m\u001B[43mtimeout_obj\u001B[49m\u001B[43m,\u001B[49m\n\u001B[0;32m    708\u001B[0m \u001B[43m    \u001B[49m\u001B[43mbody\u001B[49m\u001B[38;5;241;43m=\u001B[39;49m\u001B[43mbody\u001B[49m\u001B[43m,\u001B[49m\n\u001B[0;32m    709\u001B[0m \u001B[43m    \u001B[49m\u001B[43mheaders\u001B[49m\u001B[38;5;241;43m=\u001B[39;49m\u001B[43mheaders\u001B[49m\u001B[43m,\u001B[49m\n\u001B[0;32m    710\u001B[0m \u001B[43m    \u001B[49m\u001B[43mchunked\u001B[49m\u001B[38;5;241;43m=\u001B[39;49m\u001B[43mchunked\u001B[49m\u001B[43m,\u001B[49m\n\u001B[0;32m    711\u001B[0m \u001B[43m\u001B[49m\u001B[43m)\u001B[49m\n\u001B[0;32m    713\u001B[0m \u001B[38;5;66;03m# If we're going to release the connection in ``finally:``, then\u001B[39;00m\n\u001B[0;32m    714\u001B[0m \u001B[38;5;66;03m# the response doesn't need to know about the connection. Otherwise\u001B[39;00m\n\u001B[0;32m    715\u001B[0m \u001B[38;5;66;03m# it will also try to release it and we'll have a double-release\u001B[39;00m\n\u001B[0;32m    716\u001B[0m \u001B[38;5;66;03m# mess.\u001B[39;00m\n",
      "File \u001B[1;32m~\\AppData\\Local\\Programs\\Python\\Python310\\lib\\site-packages\\urllib3\\connectionpool.py:386\u001B[0m, in \u001B[0;36mHTTPConnectionPool._make_request\u001B[1;34m(self, conn, method, url, timeout, chunked, **httplib_request_kw)\u001B[0m\n\u001B[0;32m    385\u001B[0m \u001B[38;5;28;01mtry\u001B[39;00m:\n\u001B[1;32m--> 386\u001B[0m     \u001B[38;5;28;43mself\u001B[39;49m\u001B[38;5;241;43m.\u001B[39;49m\u001B[43m_validate_conn\u001B[49m\u001B[43m(\u001B[49m\u001B[43mconn\u001B[49m\u001B[43m)\u001B[49m\n\u001B[0;32m    387\u001B[0m \u001B[38;5;28;01mexcept\u001B[39;00m (SocketTimeout, BaseSSLError) \u001B[38;5;28;01mas\u001B[39;00m e:\n\u001B[0;32m    388\u001B[0m     \u001B[38;5;66;03m# Py2 raises this as a BaseSSLError, Py3 raises it as socket timeout.\u001B[39;00m\n",
      "File \u001B[1;32m~\\AppData\\Local\\Programs\\Python\\Python310\\lib\\site-packages\\urllib3\\connectionpool.py:1042\u001B[0m, in \u001B[0;36mHTTPSConnectionPool._validate_conn\u001B[1;34m(self, conn)\u001B[0m\n\u001B[0;32m   1041\u001B[0m \u001B[38;5;28;01mif\u001B[39;00m \u001B[38;5;129;01mnot\u001B[39;00m \u001B[38;5;28mgetattr\u001B[39m(conn, \u001B[38;5;124m\"\u001B[39m\u001B[38;5;124msock\u001B[39m\u001B[38;5;124m\"\u001B[39m, \u001B[38;5;28;01mNone\u001B[39;00m):  \u001B[38;5;66;03m# AppEngine might not have  `.sock`\u001B[39;00m\n\u001B[1;32m-> 1042\u001B[0m     \u001B[43mconn\u001B[49m\u001B[38;5;241;43m.\u001B[39;49m\u001B[43mconnect\u001B[49m\u001B[43m(\u001B[49m\u001B[43m)\u001B[49m\n\u001B[0;32m   1044\u001B[0m \u001B[38;5;28;01mif\u001B[39;00m \u001B[38;5;129;01mnot\u001B[39;00m conn\u001B[38;5;241m.\u001B[39mis_verified:\n",
      "File \u001B[1;32m~\\AppData\\Local\\Programs\\Python\\Python310\\lib\\site-packages\\urllib3\\connection.py:358\u001B[0m, in \u001B[0;36mHTTPSConnection.connect\u001B[1;34m(self)\u001B[0m\n\u001B[0;32m    356\u001B[0m \u001B[38;5;28;01mdef\u001B[39;00m \u001B[38;5;21mconnect\u001B[39m(\u001B[38;5;28mself\u001B[39m):\n\u001B[0;32m    357\u001B[0m     \u001B[38;5;66;03m# Add certificate verification\u001B[39;00m\n\u001B[1;32m--> 358\u001B[0m     \u001B[38;5;28mself\u001B[39m\u001B[38;5;241m.\u001B[39msock \u001B[38;5;241m=\u001B[39m conn \u001B[38;5;241m=\u001B[39m \u001B[38;5;28;43mself\u001B[39;49m\u001B[38;5;241;43m.\u001B[39;49m\u001B[43m_new_conn\u001B[49m\u001B[43m(\u001B[49m\u001B[43m)\u001B[49m\n\u001B[0;32m    359\u001B[0m     hostname \u001B[38;5;241m=\u001B[39m \u001B[38;5;28mself\u001B[39m\u001B[38;5;241m.\u001B[39mhost\n",
      "File \u001B[1;32m~\\AppData\\Local\\Programs\\Python\\Python310\\lib\\site-packages\\urllib3\\connection.py:179\u001B[0m, in \u001B[0;36mHTTPConnection._new_conn\u001B[1;34m(self)\u001B[0m\n\u001B[0;32m    178\u001B[0m \u001B[38;5;28;01mexcept\u001B[39;00m SocketTimeout:\n\u001B[1;32m--> 179\u001B[0m     \u001B[38;5;28;01mraise\u001B[39;00m ConnectTimeoutError(\n\u001B[0;32m    180\u001B[0m         \u001B[38;5;28mself\u001B[39m,\n\u001B[0;32m    181\u001B[0m         \u001B[38;5;124m\"\u001B[39m\u001B[38;5;124mConnection to \u001B[39m\u001B[38;5;132;01m%s\u001B[39;00m\u001B[38;5;124m timed out. (connect timeout=\u001B[39m\u001B[38;5;132;01m%s\u001B[39;00m\u001B[38;5;124m)\u001B[39m\u001B[38;5;124m\"\u001B[39m\n\u001B[0;32m    182\u001B[0m         \u001B[38;5;241m%\u001B[39m (\u001B[38;5;28mself\u001B[39m\u001B[38;5;241m.\u001B[39mhost, \u001B[38;5;28mself\u001B[39m\u001B[38;5;241m.\u001B[39mtimeout),\n\u001B[0;32m    183\u001B[0m     )\n\u001B[0;32m    185\u001B[0m \u001B[38;5;28;01mexcept\u001B[39;00m SocketError \u001B[38;5;28;01mas\u001B[39;00m e:\n",
      "\u001B[1;31mConnectTimeoutError\u001B[0m: (<urllib3.connection.HTTPSConnection object at 0x000002561C4ABFA0>, 'Connection to restapi.amap.com timed out. (connect timeout=None)')",
      "\nDuring handling of the above exception, another exception occurred:\n",
      "\u001B[1;31mMaxRetryError\u001B[0m                             Traceback (most recent call last)",
      "File \u001B[1;32m~\\AppData\\Local\\Programs\\Python\\Python310\\lib\\site-packages\\requests\\adapters.py:489\u001B[0m, in \u001B[0;36mHTTPAdapter.send\u001B[1;34m(self, request, stream, timeout, verify, cert, proxies)\u001B[0m\n\u001B[0;32m    488\u001B[0m \u001B[38;5;28;01mif\u001B[39;00m \u001B[38;5;129;01mnot\u001B[39;00m chunked:\n\u001B[1;32m--> 489\u001B[0m     resp \u001B[38;5;241m=\u001B[39m \u001B[43mconn\u001B[49m\u001B[38;5;241;43m.\u001B[39;49m\u001B[43murlopen\u001B[49m\u001B[43m(\u001B[49m\n\u001B[0;32m    490\u001B[0m \u001B[43m        \u001B[49m\u001B[43mmethod\u001B[49m\u001B[38;5;241;43m=\u001B[39;49m\u001B[43mrequest\u001B[49m\u001B[38;5;241;43m.\u001B[39;49m\u001B[43mmethod\u001B[49m\u001B[43m,\u001B[49m\n\u001B[0;32m    491\u001B[0m \u001B[43m        \u001B[49m\u001B[43murl\u001B[49m\u001B[38;5;241;43m=\u001B[39;49m\u001B[43murl\u001B[49m\u001B[43m,\u001B[49m\n\u001B[0;32m    492\u001B[0m \u001B[43m        \u001B[49m\u001B[43mbody\u001B[49m\u001B[38;5;241;43m=\u001B[39;49m\u001B[43mrequest\u001B[49m\u001B[38;5;241;43m.\u001B[39;49m\u001B[43mbody\u001B[49m\u001B[43m,\u001B[49m\n\u001B[0;32m    493\u001B[0m \u001B[43m        \u001B[49m\u001B[43mheaders\u001B[49m\u001B[38;5;241;43m=\u001B[39;49m\u001B[43mrequest\u001B[49m\u001B[38;5;241;43m.\u001B[39;49m\u001B[43mheaders\u001B[49m\u001B[43m,\u001B[49m\n\u001B[0;32m    494\u001B[0m \u001B[43m        \u001B[49m\u001B[43mredirect\u001B[49m\u001B[38;5;241;43m=\u001B[39;49m\u001B[38;5;28;43;01mFalse\u001B[39;49;00m\u001B[43m,\u001B[49m\n\u001B[0;32m    495\u001B[0m \u001B[43m        \u001B[49m\u001B[43massert_same_host\u001B[49m\u001B[38;5;241;43m=\u001B[39;49m\u001B[38;5;28;43;01mFalse\u001B[39;49;00m\u001B[43m,\u001B[49m\n\u001B[0;32m    496\u001B[0m \u001B[43m        \u001B[49m\u001B[43mpreload_content\u001B[49m\u001B[38;5;241;43m=\u001B[39;49m\u001B[38;5;28;43;01mFalse\u001B[39;49;00m\u001B[43m,\u001B[49m\n\u001B[0;32m    497\u001B[0m \u001B[43m        \u001B[49m\u001B[43mdecode_content\u001B[49m\u001B[38;5;241;43m=\u001B[39;49m\u001B[38;5;28;43;01mFalse\u001B[39;49;00m\u001B[43m,\u001B[49m\n\u001B[0;32m    498\u001B[0m \u001B[43m        \u001B[49m\u001B[43mretries\u001B[49m\u001B[38;5;241;43m=\u001B[39;49m\u001B[38;5;28;43mself\u001B[39;49m\u001B[38;5;241;43m.\u001B[39;49m\u001B[43mmax_retries\u001B[49m\u001B[43m,\u001B[49m\n\u001B[0;32m    499\u001B[0m \u001B[43m        \u001B[49m\u001B[43mtimeout\u001B[49m\u001B[38;5;241;43m=\u001B[39;49m\u001B[43mtimeout\u001B[49m\u001B[43m,\u001B[49m\n\u001B[0;32m    500\u001B[0m \u001B[43m    \u001B[49m\u001B[43m)\u001B[49m\n\u001B[0;32m    502\u001B[0m \u001B[38;5;66;03m# Send the request.\u001B[39;00m\n\u001B[0;32m    503\u001B[0m \u001B[38;5;28;01melse\u001B[39;00m:\n",
      "File \u001B[1;32m~\\AppData\\Local\\Programs\\Python\\Python310\\lib\\site-packages\\urllib3\\connectionpool.py:787\u001B[0m, in \u001B[0;36mHTTPConnectionPool.urlopen\u001B[1;34m(self, method, url, body, headers, retries, redirect, assert_same_host, timeout, pool_timeout, release_conn, chunked, body_pos, **response_kw)\u001B[0m\n\u001B[0;32m    785\u001B[0m     e \u001B[38;5;241m=\u001B[39m ProtocolError(\u001B[38;5;124m\"\u001B[39m\u001B[38;5;124mConnection aborted.\u001B[39m\u001B[38;5;124m\"\u001B[39m, e)\n\u001B[1;32m--> 787\u001B[0m retries \u001B[38;5;241m=\u001B[39m \u001B[43mretries\u001B[49m\u001B[38;5;241;43m.\u001B[39;49m\u001B[43mincrement\u001B[49m\u001B[43m(\u001B[49m\n\u001B[0;32m    788\u001B[0m \u001B[43m    \u001B[49m\u001B[43mmethod\u001B[49m\u001B[43m,\u001B[49m\u001B[43m \u001B[49m\u001B[43murl\u001B[49m\u001B[43m,\u001B[49m\u001B[43m \u001B[49m\u001B[43merror\u001B[49m\u001B[38;5;241;43m=\u001B[39;49m\u001B[43me\u001B[49m\u001B[43m,\u001B[49m\u001B[43m \u001B[49m\u001B[43m_pool\u001B[49m\u001B[38;5;241;43m=\u001B[39;49m\u001B[38;5;28;43mself\u001B[39;49m\u001B[43m,\u001B[49m\u001B[43m \u001B[49m\u001B[43m_stacktrace\u001B[49m\u001B[38;5;241;43m=\u001B[39;49m\u001B[43msys\u001B[49m\u001B[38;5;241;43m.\u001B[39;49m\u001B[43mexc_info\u001B[49m\u001B[43m(\u001B[49m\u001B[43m)\u001B[49m\u001B[43m[\u001B[49m\u001B[38;5;241;43m2\u001B[39;49m\u001B[43m]\u001B[49m\n\u001B[0;32m    789\u001B[0m \u001B[43m\u001B[49m\u001B[43m)\u001B[49m\n\u001B[0;32m    790\u001B[0m retries\u001B[38;5;241m.\u001B[39msleep()\n",
      "File \u001B[1;32m~\\AppData\\Local\\Programs\\Python\\Python310\\lib\\site-packages\\urllib3\\util\\retry.py:592\u001B[0m, in \u001B[0;36mRetry.increment\u001B[1;34m(self, method, url, response, error, _pool, _stacktrace)\u001B[0m\n\u001B[0;32m    591\u001B[0m \u001B[38;5;28;01mif\u001B[39;00m new_retry\u001B[38;5;241m.\u001B[39mis_exhausted():\n\u001B[1;32m--> 592\u001B[0m     \u001B[38;5;28;01mraise\u001B[39;00m MaxRetryError(_pool, url, error \u001B[38;5;129;01mor\u001B[39;00m ResponseError(cause))\n\u001B[0;32m    594\u001B[0m log\u001B[38;5;241m.\u001B[39mdebug(\u001B[38;5;124m\"\u001B[39m\u001B[38;5;124mIncremented Retry for (url=\u001B[39m\u001B[38;5;124m'\u001B[39m\u001B[38;5;132;01m%s\u001B[39;00m\u001B[38;5;124m'\u001B[39m\u001B[38;5;124m): \u001B[39m\u001B[38;5;132;01m%r\u001B[39;00m\u001B[38;5;124m\"\u001B[39m, url, new_retry)\n",
      "\u001B[1;31mMaxRetryError\u001B[0m: HTTPSConnectionPool(host='restapi.amap.com', port=443): Max retries exceeded with url: /v4/direction/bicycling?key=7c7c15f223aabf7a50695f405c1bbe8b&origin=120.694077%2C27.919738&destination=120.694077%2C27.919738 (Caused by ConnectTimeoutError(<urllib3.connection.HTTPSConnection object at 0x000002561C4ABFA0>, 'Connection to restapi.amap.com timed out. (connect timeout=None)'))",
      "\nDuring handling of the above exception, another exception occurred:\n",
      "\u001B[1;31mConnectTimeout\u001B[0m                            Traceback (most recent call last)",
      "Cell \u001B[1;32mIn [6], line 61\u001B[0m, in \u001B[0;36maddCyclingPaths\u001B[1;34m(bikeinfo)\u001B[0m\n\u001B[0;32m     60\u001B[0m \u001B[38;5;28;01mtry\u001B[39;00m:\n\u001B[1;32m---> 61\u001B[0m     cycs[y][\u001B[38;5;124m\"\u001B[39m\u001B[38;5;124mpath\u001B[39m\u001B[38;5;124m\"\u001B[39m]\u001B[38;5;241m=\u001B[39m\u001B[43mgetCyclingPath\u001B[49m\u001B[43m(\u001B[49m\u001B[43mcyc\u001B[49m\u001B[43m[\u001B[49m\u001B[38;5;124;43m\"\u001B[39;49m\u001B[38;5;124;43mstart_pos\u001B[39;49m\u001B[38;5;124;43m\"\u001B[39;49m\u001B[43m]\u001B[49m\u001B[43m,\u001B[49m\u001B[43mcyc\u001B[49m\u001B[43m[\u001B[49m\u001B[38;5;124;43m\"\u001B[39;49m\u001B[38;5;124;43mend_pos\u001B[39;49m\u001B[38;5;124;43m\"\u001B[39;49m\u001B[43m]\u001B[49m\u001B[43m,\u001B[49m\u001B[43mact_duration\u001B[49m\u001B[43m,\u001B[49m\u001B[43mkeys\u001B[49m\u001B[43m[\u001B[49m\u001B[43muse\u001B[49m\u001B[43m]\u001B[49m\u001B[43m)\u001B[49m\n\u001B[0;32m     62\u001B[0m \u001B[38;5;28;01mexcept\u001B[39;00m :\n",
      "Cell \u001B[1;32mIn [6], line 22\u001B[0m, in \u001B[0;36mgetCyclingPath\u001B[1;34m(start_pos, end_pos, act_duration, key)\u001B[0m\n\u001B[0;32m     17\u001B[0m params\u001B[38;5;241m=\u001B[39m{\n\u001B[0;32m     18\u001B[0m     \u001B[38;5;124m\"\u001B[39m\u001B[38;5;124mkey\u001B[39m\u001B[38;5;124m\"\u001B[39m:key,\n\u001B[0;32m     19\u001B[0m     \u001B[38;5;124m\"\u001B[39m\u001B[38;5;124morigin\u001B[39m\u001B[38;5;124m\"\u001B[39m:\u001B[38;5;124m'\u001B[39m\u001B[38;5;124m,\u001B[39m\u001B[38;5;124m'\u001B[39m\u001B[38;5;241m.\u001B[39mjoin([\u001B[38;5;28mstr\u001B[39m(i) \u001B[38;5;28;01mfor\u001B[39;00m i \u001B[38;5;129;01min\u001B[39;00m start_pos]),\n\u001B[0;32m     20\u001B[0m     \u001B[38;5;124m\"\u001B[39m\u001B[38;5;124mdestination\u001B[39m\u001B[38;5;124m\"\u001B[39m:\u001B[38;5;124m'\u001B[39m\u001B[38;5;124m,\u001B[39m\u001B[38;5;124m'\u001B[39m\u001B[38;5;241m.\u001B[39mjoin([\u001B[38;5;28mstr\u001B[39m(i) \u001B[38;5;28;01mfor\u001B[39;00m i \u001B[38;5;129;01min\u001B[39;00m end_pos]),\n\u001B[0;32m     21\u001B[0m }\n\u001B[1;32m---> 22\u001B[0m r\u001B[38;5;241m=\u001B[39m\u001B[43mrequests\u001B[49m\u001B[38;5;241;43m.\u001B[39;49m\u001B[43mget\u001B[49m\u001B[43m(\u001B[49m\u001B[43murl\u001B[49m\u001B[43m,\u001B[49m\u001B[43mparams\u001B[49m\u001B[38;5;241;43m=\u001B[39;49m\u001B[43mparams\u001B[49m\u001B[43m)\u001B[49m\n\u001B[0;32m     23\u001B[0m rdata\u001B[38;5;241m=\u001B[39mjson\u001B[38;5;241m.\u001B[39mloads(r\u001B[38;5;241m.\u001B[39mtext)\n",
      "File \u001B[1;32m~\\AppData\\Local\\Programs\\Python\\Python310\\lib\\site-packages\\requests\\api.py:73\u001B[0m, in \u001B[0;36mget\u001B[1;34m(url, params, **kwargs)\u001B[0m\n\u001B[0;32m     63\u001B[0m \u001B[38;5;124mr\u001B[39m\u001B[38;5;124;03m\"\"\"Sends a GET request.\u001B[39;00m\n\u001B[0;32m     64\u001B[0m \n\u001B[0;32m     65\u001B[0m \u001B[38;5;124;03m:param url: URL for the new :class:`Request` object.\u001B[39;00m\n\u001B[1;32m   (...)\u001B[0m\n\u001B[0;32m     70\u001B[0m \u001B[38;5;124;03m:rtype: requests.Response\u001B[39;00m\n\u001B[0;32m     71\u001B[0m \u001B[38;5;124;03m\"\"\"\u001B[39;00m\n\u001B[1;32m---> 73\u001B[0m \u001B[38;5;28;01mreturn\u001B[39;00m request(\u001B[38;5;124m\"\u001B[39m\u001B[38;5;124mget\u001B[39m\u001B[38;5;124m\"\u001B[39m, url, params\u001B[38;5;241m=\u001B[39mparams, \u001B[38;5;241m*\u001B[39m\u001B[38;5;241m*\u001B[39mkwargs)\n",
      "File \u001B[1;32m~\\AppData\\Local\\Programs\\Python\\Python310\\lib\\site-packages\\requests\\api.py:59\u001B[0m, in \u001B[0;36mrequest\u001B[1;34m(method, url, **kwargs)\u001B[0m\n\u001B[0;32m     58\u001B[0m \u001B[38;5;28;01mwith\u001B[39;00m sessions\u001B[38;5;241m.\u001B[39mSession() \u001B[38;5;28;01mas\u001B[39;00m session:\n\u001B[1;32m---> 59\u001B[0m     \u001B[38;5;28;01mreturn\u001B[39;00m session\u001B[38;5;241m.\u001B[39mrequest(method\u001B[38;5;241m=\u001B[39mmethod, url\u001B[38;5;241m=\u001B[39murl, \u001B[38;5;241m*\u001B[39m\u001B[38;5;241m*\u001B[39mkwargs)\n",
      "File \u001B[1;32m~\\AppData\\Local\\Programs\\Python\\Python310\\lib\\site-packages\\requests\\sessions.py:587\u001B[0m, in \u001B[0;36mSession.request\u001B[1;34m(self, method, url, params, data, headers, cookies, files, auth, timeout, allow_redirects, proxies, hooks, stream, verify, cert, json)\u001B[0m\n\u001B[0;32m    586\u001B[0m send_kwargs\u001B[38;5;241m.\u001B[39mupdate(settings)\n\u001B[1;32m--> 587\u001B[0m resp \u001B[38;5;241m=\u001B[39m \u001B[38;5;28mself\u001B[39m\u001B[38;5;241m.\u001B[39msend(prep, \u001B[38;5;241m*\u001B[39m\u001B[38;5;241m*\u001B[39msend_kwargs)\n\u001B[0;32m    589\u001B[0m \u001B[38;5;28;01mreturn\u001B[39;00m resp\n",
      "File \u001B[1;32m~\\AppData\\Local\\Programs\\Python\\Python310\\lib\\site-packages\\requests\\sessions.py:701\u001B[0m, in \u001B[0;36mSession.send\u001B[1;34m(self, request, **kwargs)\u001B[0m\n\u001B[0;32m    700\u001B[0m \u001B[38;5;66;03m# Send the request\u001B[39;00m\n\u001B[1;32m--> 701\u001B[0m r \u001B[38;5;241m=\u001B[39m adapter\u001B[38;5;241m.\u001B[39msend(request, \u001B[38;5;241m*\u001B[39m\u001B[38;5;241m*\u001B[39mkwargs)\n\u001B[0;32m    703\u001B[0m \u001B[38;5;66;03m# Total elapsed time of the request (approximately)\u001B[39;00m\n",
      "File \u001B[1;32m~\\AppData\\Local\\Programs\\Python\\Python310\\lib\\site-packages\\requests\\adapters.py:553\u001B[0m, in \u001B[0;36mHTTPAdapter.send\u001B[1;34m(self, request, stream, timeout, verify, cert, proxies)\u001B[0m\n\u001B[0;32m    552\u001B[0m     \u001B[38;5;28;01mif\u001B[39;00m \u001B[38;5;129;01mnot\u001B[39;00m \u001B[38;5;28misinstance\u001B[39m(e\u001B[38;5;241m.\u001B[39mreason, NewConnectionError):\n\u001B[1;32m--> 553\u001B[0m         \u001B[38;5;28;01mraise\u001B[39;00m ConnectTimeout(e, request\u001B[38;5;241m=\u001B[39mrequest)\n\u001B[0;32m    555\u001B[0m \u001B[38;5;28;01mif\u001B[39;00m \u001B[38;5;28misinstance\u001B[39m(e\u001B[38;5;241m.\u001B[39mreason, ResponseError):\n",
      "\u001B[1;31mConnectTimeout\u001B[0m: HTTPSConnectionPool(host='restapi.amap.com', port=443): Max retries exceeded with url: /v4/direction/bicycling?key=7c7c15f223aabf7a50695f405c1bbe8b&origin=120.694077%2C27.919738&destination=120.694077%2C27.919738 (Caused by ConnectTimeoutError(<urllib3.connection.HTTPSConnection object at 0x000002561C4ABFA0>, 'Connection to restapi.amap.com timed out. (connect timeout=None)'))",
      "\nDuring handling of the above exception, another exception occurred:\n",
      "\u001B[1;31mException\u001B[0m                                 Traceback (most recent call last)",
      "Cell \u001B[1;32mIn [6], line 75\u001B[0m\n\u001B[0;32m     73\u001B[0m \u001B[38;5;28mprint\u001B[39m(all_cyclings_pos)\n\u001B[0;32m     74\u001B[0m \u001B[38;5;28mbreakpoint\u001B[39m()\n\u001B[1;32m---> 75\u001B[0m all_cyclings_paths\u001B[38;5;241m=\u001B[39m\u001B[43maddCyclingPaths\u001B[49m\u001B[43m(\u001B[49m\u001B[43mall_cyclings_pos\u001B[49m\u001B[43m)\u001B[49m\u001B[38;5;66;03m#获取骑行规划\u001B[39;00m\n\u001B[0;32m     76\u001B[0m pickle\u001B[38;5;241m.\u001B[39mdump(all_cyclings_paths, \u001B[38;5;28mopen\u001B[39m(\u001B[38;5;124m\"\u001B[39m\u001B[38;5;124mall_cyclings_paths.pkl\u001B[39m\u001B[38;5;124m\"\u001B[39m, \u001B[38;5;124m\"\u001B[39m\u001B[38;5;124mwb\u001B[39m\u001B[38;5;124m\"\u001B[39m))\u001B[38;5;66;03m#持久化变量\u001B[39;00m\n",
      "Cell \u001B[1;32mIn [6], line 65\u001B[0m, in \u001B[0;36maddCyclingPaths\u001B[1;34m(bikeinfo)\u001B[0m\n\u001B[0;32m     63\u001B[0m     use\u001B[38;5;241m+\u001B[39m\u001B[38;5;241m=\u001B[39m\u001B[38;5;241m1\u001B[39m\n\u001B[0;32m     64\u001B[0m     \u001B[38;5;28;01mif\u001B[39;00m use\u001B[38;5;241m==\u001B[39m\u001B[38;5;28mlen\u001B[39m(keys):\n\u001B[1;32m---> 65\u001B[0m         \u001B[38;5;28;01mraise\u001B[39;00m \u001B[38;5;167;01mException\u001B[39;00m\n\u001B[0;32m     66\u001B[0m     cycs[y][\u001B[38;5;124m\"\u001B[39m\u001B[38;5;124mpath\u001B[39m\u001B[38;5;124m\"\u001B[39m]\u001B[38;5;241m=\u001B[39mgetCyclingPath(cyc[\u001B[38;5;124m\"\u001B[39m\u001B[38;5;124mstart_pos\u001B[39m\u001B[38;5;124m\"\u001B[39m],cyc[\u001B[38;5;124m\"\u001B[39m\u001B[38;5;124mend_pos\u001B[39m\u001B[38;5;124m\"\u001B[39m],act_duration,keys[use])\n\u001B[0;32m     68\u001B[0m bikeinfo[x][\u001B[38;5;124m\"\u001B[39m\u001B[38;5;124mcyclings\u001B[39m\u001B[38;5;124m\"\u001B[39m]\u001B[38;5;241m=\u001B[39mcycs\n",
      "\u001B[1;31mException\u001B[0m: "
     ]
    }
   ],
   "source": [
    "import requests,json,pickle\n",
    "'''\n",
    "获取骑行规划\n",
    "持久化该过程得到的变量\n",
    "'''\n",
    "def getCyclingPath(start_pos,end_pos,act_duration,key):\n",
    "    \"\"\"\n",
    "    利用高德地图API，查找起点到终点的路线，选择第一条为最优路线\n",
    "    提取返回结果中的polylines，返回路径点列表\n",
    "    \"\"\"\n",
    "    if start_pos[0]<start_pos[1]:\n",
    "        start_pos.reverse()\n",
    "    if end_pos[0]<end_pos[1]:\n",
    "        end_pos.reverse()\n",
    "\n",
    "    url=\"https://restapi.amap.com/v4/direction/bicycling\"\n",
    "    params={\n",
    "        \"key\":key,\n",
    "        \"origin\":','.join([str(i) for i in start_pos]),\n",
    "        \"destination\":','.join([str(i) for i in end_pos]),\n",
    "    }\n",
    "    r=requests.get(url,params=params)\n",
    "    rdata=json.loads(r.text)\n",
    "    if rdata[\"errcode\"]==0:\n",
    "        rpaths=rdata[\"data\"][\"paths\"]\n",
    "        rdurations=[abs(int(i[\"duration\"])-act_duration) for i in rpaths]#计算规划时长与实际时长的差值\n",
    "        path_index=rdurations.index(min(rdurations))\n",
    "        steps=rpaths[path_index][\"steps\"]\n",
    "        points=[]\n",
    "        for step in steps:\n",
    "            points+=step[\"polyline\"].split(';')\n",
    "        return {\"paths\":points,\"act_duration\":act_duration,\"duration\":rpaths[path_index][\"duration\"],\"distance\":rpaths[path_index][\"distance\"]}\n",
    "    else:\n",
    "        print(r.text)\n",
    "        raise Exception(\"API Exception\")\n",
    "        \n",
    "import time,datetime\n",
    "def addCyclingPaths(bikeinfo):\n",
    "    '''\n",
    "    将路径信息添加到原字典中\n",
    "    '''\n",
    "    keys=[\n",
    "        \"69e8d3a2002eec46b1a73a7becd320dc\",\n",
    "        '250698c861c56b47eba7496f5d11f6fd',\n",
    "        '7c7c15f223aabf7a50695f405c1bbe8b'\n",
    "\n",
    "    ]\n",
    "\n",
    "    count=0\n",
    "    spoint=time.time()\n",
    "    use=0\n",
    "    for x,item in enumerate(bikeinfo):\n",
    "        cycs=item[\"cyclings\"]\n",
    "        for y,cyc in enumerate(cycs):\n",
    "            count+=1\n",
    "            print(\"%s正在获取第%s辆车辆%s 的第%s次骑行路径,已用时%ss.\"%(count,x+1,item[\"bikeno\"],y+1,int(time.time()-spoint)),end='\\r')\n",
    "            start_time=datetime.datetime.strptime(cyc[\"start_time\"],\"%Y-%m-%d %H:%M\")\n",
    "            end_time=datetime.datetime.strptime(cyc[\"end_time\"],\"%Y-%m-%d %H:%M\")\n",
    "            act_duration=(end_time-start_time).seconds\n",
    "            try:\n",
    "                cycs[y][\"path\"]=getCyclingPath(cyc[\"start_pos\"],cyc[\"end_pos\"],act_duration,keys[use])\n",
    "            except :\n",
    "                use+=1\n",
    "                if use==len(keys):\n",
    "                    raise Exception\n",
    "                cycs[y][\"path\"]=getCyclingPath(cyc[\"start_pos\"],cyc[\"end_pos\"],act_duration,keys[use])\n",
    "\n",
    "            bikeinfo[x][\"cyclings\"]=cycs\n",
    "    return bikeinfo\n",
    "\n",
    "\n",
    "all_cyclings_pos = pickle.load(open(\"all_cyclings_pos.pkl\", \"rb\"))#加载骑行信息\n",
    "print(all_cyclings_pos)\n",
    "breakpoint()\n",
    "all_cyclings_paths=addCyclingPaths(all_cyclings_pos)#获取骑行规划\n",
    "pickle.dump(all_cyclings_paths, open(\"all_cyclings_paths.pkl\", \"wb\"))#持久化变量"
   ]
  },
  {
   "cell_type": "code",
   "execution_count": 5,
   "metadata": {
    "collapsed": true
   },
   "outputs": [
    {
     "ename": "FileNotFoundError",
     "evalue": "[Errno 2] No such file or directory: 'all_cyclings_paths.pkl'",
     "output_type": "error",
     "traceback": [
      "\u001B[1;31m---------------------------------------------------------------------------\u001B[0m",
      "\u001B[1;31mFileNotFoundError\u001B[0m                         Traceback (most recent call last)",
      "Cell \u001B[1;32mIn [5], line 1\u001B[0m\n\u001B[1;32m----> 1\u001B[0m all_cyclings_paths2 \u001B[38;5;241m=\u001B[39m pickle\u001B[38;5;241m.\u001B[39mload(\u001B[38;5;28;43mopen\u001B[39;49m\u001B[43m(\u001B[49m\u001B[38;5;124;43m\"\u001B[39;49m\u001B[38;5;124;43mall_cyclings_paths.pkl\u001B[39;49m\u001B[38;5;124;43m\"\u001B[39;49m\u001B[43m,\u001B[49m\u001B[43m \u001B[49m\u001B[38;5;124;43m\"\u001B[39;49m\u001B[38;5;124;43mrb\u001B[39;49m\u001B[38;5;124;43m\"\u001B[39;49m\u001B[43m)\u001B[49m)\u001B[38;5;66;03m#加载骑行路径信息\u001B[39;00m\n\u001B[0;32m      2\u001B[0m all_cyclings_paths2[\u001B[38;5;241m0\u001B[39m]\u001B[38;5;66;03m#查看一条记录\u001B[39;00m\n",
      "File \u001B[1;32mL:\\pycharm projects\\Bike_Scrapper\\venv\\lib\\site-packages\\IPython\\core\\interactiveshell.py:282\u001B[0m, in \u001B[0;36m_modified_open\u001B[1;34m(file, *args, **kwargs)\u001B[0m\n\u001B[0;32m    275\u001B[0m \u001B[38;5;28;01mif\u001B[39;00m file \u001B[38;5;129;01min\u001B[39;00m {\u001B[38;5;241m0\u001B[39m, \u001B[38;5;241m1\u001B[39m, \u001B[38;5;241m2\u001B[39m}:\n\u001B[0;32m    276\u001B[0m     \u001B[38;5;28;01mraise\u001B[39;00m \u001B[38;5;167;01mValueError\u001B[39;00m(\n\u001B[0;32m    277\u001B[0m         \u001B[38;5;124mf\u001B[39m\u001B[38;5;124m\"\u001B[39m\u001B[38;5;124mIPython won\u001B[39m\u001B[38;5;124m'\u001B[39m\u001B[38;5;124mt let you open fd=\u001B[39m\u001B[38;5;132;01m{\u001B[39;00mfile\u001B[38;5;132;01m}\u001B[39;00m\u001B[38;5;124m by default \u001B[39m\u001B[38;5;124m\"\u001B[39m\n\u001B[0;32m    278\u001B[0m         \u001B[38;5;124m\"\u001B[39m\u001B[38;5;124mas it is likely to crash IPython. If you know what you are doing, \u001B[39m\u001B[38;5;124m\"\u001B[39m\n\u001B[0;32m    279\u001B[0m         \u001B[38;5;124m\"\u001B[39m\u001B[38;5;124myou can use builtins\u001B[39m\u001B[38;5;124m'\u001B[39m\u001B[38;5;124m open.\u001B[39m\u001B[38;5;124m\"\u001B[39m\n\u001B[0;32m    280\u001B[0m     )\n\u001B[1;32m--> 282\u001B[0m \u001B[38;5;28;01mreturn\u001B[39;00m io_open(file, \u001B[38;5;241m*\u001B[39margs, \u001B[38;5;241m*\u001B[39m\u001B[38;5;241m*\u001B[39mkwargs)\n",
      "\u001B[1;31mFileNotFoundError\u001B[0m: [Errno 2] No such file or directory: 'all_cyclings_paths.pkl'"
     ]
    }
   ],
   "source": [
    "all_cyclings_paths2 = pickle.load(open(\"all_cyclings_paths.pkl\", \"rb\"))#加载骑行路径信息\n",
    "all_cyclings_paths2[0]#查看一条记录"
   ]
  }
 ],
 "metadata": {
  "kernelspec": {
   "display_name": "Python 3",
   "language": "python",
   "name": "python3"
  },
  "language_info": {
   "codemirror_mode": {
    "name": "ipython",
    "version": 3
   },
   "file_extension": ".py",
   "mimetype": "text/x-python",
   "name": "python",
   "nbconvert_exporter": "python",
   "pygments_lexer": "ipython3",
   "version": "3.6.2"
  }
 },
 "nbformat": 4,
 "nbformat_minor": 2
}
