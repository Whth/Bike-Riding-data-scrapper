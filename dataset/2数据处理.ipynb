{
 "cells": [
  {
   "cell_type": "code",
   "execution_count": 2,
   "outputs": [
    {
     "name": "stdout",
     "output_type": "stream",
     "text": [
      "                   time      bikeno        lat         lng\n",
      "0      2022-10-05 00:15  9030152518  27.925333  120.700360\n",
      "1      2022-10-05 00:15  9020094777  27.926611  120.700406\n",
      "2      2022-10-05 00:15  9030253312  27.925200  120.700235\n",
      "3      2022-10-05 00:15  9080057258  27.925130  120.700169\n",
      "4      2022-10-05 00:15  9030243981  27.926957  120.700849\n",
      "...                 ...         ...        ...         ...\n",
      "91003  2022-10-05 22:57  9020158514  27.918895  120.708273\n",
      "91004  2022-10-05 22:57  9080177524  27.918893  120.708280\n",
      "91005  2022-10-05 22:57  9020271286  27.918862  120.708304\n",
      "91006  2022-10-05 22:57  9080207214  27.918887  120.708291\n",
      "91007  2022-10-05 22:57  9080081514  27.918907  120.708291\n",
      "\n",
      "[90042 rows x 4 columns]\n"
     ]
    }
   ],
   "source": [
    "import pandas as pd\n",
    "'''\n",
    "读取原始文件\n",
    "增加列名、去重\n",
    "'''\n",
    "\n",
    "raw_df=pd.read_csv(r\"L:\\pycharm projects\\master\\RecoveredBikeData\\2022-10\\05\\allBikes.txt\",sep='\\t',header=None)\n",
    "raw_df.columns=['time','bikeno','lat','lng']\n",
    "raw_df.drop_duplicates(subset=[\"time\",\"bikeno\"],keep=\"last\",inplace=True)\n",
    "print(raw_df)"
   ],
   "metadata": {
    "collapsed": false
   }
  },
  {
   "cell_type": "code",
   "execution_count": 3,
   "metadata": {},
   "outputs": [
    {
     "name": "stdout",
     "output_type": "stream",
     "text": [
      "                   time      bikeno        lat         lng\n",
      "0      2022-10-05 00:15  9030152518  27.925333  120.700360\n",
      "1      2022-10-05 00:15  9020094777  27.926611  120.700406\n",
      "2      2022-10-05 00:15  9030253312  27.925200  120.700235\n",
      "3      2022-10-05 00:15  9080057258  27.925130  120.700169\n",
      "4      2022-10-05 00:15  9030243981  27.926957  120.700849\n",
      "...                 ...         ...        ...         ...\n",
      "91003  2022-10-05 22:57  9020158514  27.918895  120.708273\n",
      "91004  2022-10-05 22:57  9080177524  27.918893  120.708280\n",
      "91005  2022-10-05 22:57  9020271286  27.918862  120.708304\n",
      "91006  2022-10-05 22:57  9080207214  27.918887  120.708291\n",
      "91007  2022-10-05 22:57  9080081514  27.918907  120.708291\n",
      "\n",
      "[90042 rows x 4 columns]\n",
      "3112 of 3113 time cost:151 s.\r"
     ]
    }
   ],
   "source": [
    "import pandas as pd\n",
    "import time,datetime,pickle\n",
    "'''\n",
    "从原始文件构建观察矩阵\n",
    "并持久化变量\n",
    "'''\n",
    "def getUnavailableTimestamps(raw_df,bikeno):\n",
    "    '''\n",
    "    返回bikeno所有的不可用时间，返回格式为set\n",
    "    '''\n",
    "    all_timestamps=set(raw_df[\"time\"])\n",
    "    bikeno_timestamps=set(raw_df.query(\"bikeno==@bikeno\")[\"time\"])\n",
    "    return all_timestamps-bikeno_timestamps\n",
    "        \n",
    "def toMatrix(raw_df):\n",
    "    '''\n",
    "    将原始pd转化成matrix格式\n",
    "    columns为时间点\n",
    "    index为bikeno\n",
    "    0表示unavailable,1表示available\n",
    "    '''\n",
    "    time1=time.time()\n",
    "    all_bikes=list(set(raw_df[\"bikeno\"]))\n",
    "    all_timestamps=sorted([datetime.datetime.strptime(i,\"%Y-%m-%d %H:%M\") for i in (set(raw_df[\"time\"]))])\n",
    "    bikes_timestamps_matrix=pd.DataFrame(data=1,index=all_bikes,columns=all_timestamps,dtype=int)#初始化所有值都为1:available\n",
    "    for x,bike in enumerate(all_bikes):\n",
    "        print(\"%s of %s time cost:%s s.\"%(x,len(all_bikes),int(time.time()-time1)),end='\\r')\n",
    "        unavailable_timestamps=getUnavailableTimestamps(raw_df,bike)\n",
    "        for timestamp in unavailable_timestamps:\n",
    "            bikes_timestamps_matrix.loc[bike,timestamp]=0            \n",
    "    return bikes_timestamps_matrix\n",
    "\n",
    "print(raw_df)\n",
    "matrix=toMatrix(raw_df)#从原始文件构建为观察矩阵\n",
    "pickle.dump(matrix, open(\"matrix.pkl\", \"wb\"))#持久化变量"
   ]
  },
  {
   "cell_type": "code",
   "execution_count": 4,
   "metadata": {
    "collapsed": true
   },
   "outputs": [
    {
     "name": "stdout",
     "output_type": "stream",
     "text": [
      "正在处理第3112辆 车辆编号为9020227583 ,已用时27 s.\r"
     ]
    }
   ],
   "source": [
    "import re\n",
    "'''\n",
    "从观察矩阵中发现骑行\n",
    "将骑行信息持久化存储\n",
    "'''\n",
    "def getEachCyclingPos(bikeno,raw_df,matrix):\n",
    "    '''\n",
    "    line为matrix中的一行，即各个时间点的status列表\n",
    "    line smaple:[0,0,0,0,1,1,1,1,1,1,1,0,0,0,0,1,1,1,0,1]\n",
    "    找到所有形如正则中10+1的所有结果\n",
    "    返回start和end\n",
    "    return smaple:[(10,16),(17,20)]左闭右开\n",
    "    '''\n",
    "    line=matrix.loc[bikeno,:]\n",
    "    s=''.join([str(i) for i in line])#list转换成str\n",
    "    res=[]\n",
    "    for i in range(len(s)):#对s的每个字串进行分别匹配，返回匹配结果，解决re只能找到1001001中一个1001的不足\n",
    "        temp=[i.span() for i in re.finditer('10+1',s[i:])]#利用现成的re库\n",
    "        temp=[(x[0]+i,x[1]+i) for x in temp]\n",
    "        res+=temp\n",
    "    res=set(res)\n",
    "    timestamps=matrix.columns\n",
    "    rides=[]\n",
    "    for i in res:\n",
    "        '''\n",
    "        这一段需要注意开始骑行的时间与获取位置的时间不完全一致：\n",
    "        假设一段骑行为100001\n",
    "        开始时间按照第一个0的时间计算，结束时间按照最后一个1计算\n",
    "        开始位置按照第一个1查找，结束位置按照最后一个1查找\n",
    "        '''\n",
    "        start_time=timestamps[i[0]+1].strftime(\"%Y-%m-%d %H:%M\") #开始时间为状态1的下一个时间点\n",
    "        end_time=timestamps[i[1]-1].strftime(\"%Y-%m-%d %H:%M\")#结束时间就是状态1的时间点,注意是左闭右开，所以此处要减去1\n",
    "        start_time_act=timestamps[i[0]].strftime(\"%Y-%m-%d %H:%M\")#查询开始位置应该是开始使用前的status==1的时间点\n",
    "        \n",
    "        start_item=raw_df.query(\"bikeno==@bikeno\").query(\"time==@start_time_act\")#获取开始时间的位置信息只能由状态1获得\n",
    "        start_pos=[round(float(i),6) for i in (start_item['lat'],start_item['lng'])]\n",
    "        \n",
    "        end_item=raw_df.query(\"bikeno==@bikeno\").query(\"time==@end_time\")\n",
    "        end_pos=[round(float(i),6) for i in (end_item['lat'],end_item['lng'])]\n",
    "        \n",
    "        rides.append({\"start_time\":start_time,\"end_time\":end_time,\"start_pos\":start_pos,\"end_pos\":end_pos})\n",
    "    return rides\n",
    "\n",
    "def getALLCyclingPos(raw_df,matrix):\n",
    "    bikes=matrix.index\n",
    "    res=[]\n",
    "    start_time=time.time()\n",
    "    for x,bike in enumerate(bikes):\n",
    "        print(\"正在处理第%s辆 车辆编号为%s ,已用时%s s.\"%(x,bike,int(time.time()-start_time)),end='\\r')\n",
    "        resdict={}\n",
    "        resdict[\"bikeno\"]=bike\n",
    "        resdict[\"cyclings\"]=getEachCyclingPos(bike,raw_df,matrix)\n",
    "        res.append(resdict)\n",
    "    return res\n",
    "\n",
    "matrix = pickle.load(open(\"matrix.pkl\", \"rb\"))#加载观察矩阵\n",
    "all_cyclings_pos=getALLCyclingPos(raw_df,matrix)#发现骑行\n",
    "pickle.dump(all_cyclings_pos, open(\"all_cyclings_pos.pkl\", \"wb\"))#持久化变量"
   ]
  },
  {
   "cell_type": "code",
   "execution_count": 8,
   "metadata": {
    "collapsed": true
   },
   "outputs": [
    {
     "name": "stdout",
     "output_type": "stream",
     "text": [
      "{\"errcode\":10044,\"errmsg\":\"USER_DAILY_QUERY_OVER_LIMIT\"}\n"
     ]
    },
    {
     "ename": "Exception",
     "evalue": "API Exception",
     "output_type": "error",
     "traceback": [
      "\u001B[1;31m---------------------------------------------------------------------------\u001B[0m",
      "\u001B[1;31mException\u001B[0m                                 Traceback (most recent call last)",
      "Cell \u001B[1;32mIn [8], line 62\u001B[0m\n\u001B[0;32m     58\u001B[0m     \u001B[38;5;28;01mreturn\u001B[39;00m bikeinfo\n\u001B[0;32m     61\u001B[0m all_cyclings_pos \u001B[38;5;241m=\u001B[39m pickle\u001B[38;5;241m.\u001B[39mload(\u001B[38;5;28mopen\u001B[39m(\u001B[38;5;124m\"\u001B[39m\u001B[38;5;124mall_cyclings_pos.pkl\u001B[39m\u001B[38;5;124m\"\u001B[39m, \u001B[38;5;124m\"\u001B[39m\u001B[38;5;124mrb\u001B[39m\u001B[38;5;124m\"\u001B[39m))\u001B[38;5;66;03m#加载骑行信息\u001B[39;00m\n\u001B[1;32m---> 62\u001B[0m all_cyclings_paths\u001B[38;5;241m=\u001B[39m\u001B[43maddCyclingPaths\u001B[49m\u001B[43m(\u001B[49m\u001B[43mall_cyclings_pos\u001B[49m\u001B[43m)\u001B[49m\u001B[38;5;66;03m#获取骑行规划\u001B[39;00m\n\u001B[0;32m     63\u001B[0m pickle\u001B[38;5;241m.\u001B[39mdump(all_cyclings_paths, \u001B[38;5;28mopen\u001B[39m(\u001B[38;5;124m\"\u001B[39m\u001B[38;5;124mall_cyclings_paths.pkl\u001B[39m\u001B[38;5;124m\"\u001B[39m, \u001B[38;5;124m\"\u001B[39m\u001B[38;5;124mwb\u001B[39m\u001B[38;5;124m\"\u001B[39m))\n",
      "Cell \u001B[1;32mIn [8], line 56\u001B[0m, in \u001B[0;36maddCyclingPaths\u001B[1;34m(bikeinfo)\u001B[0m\n\u001B[0;32m     54\u001B[0m         end_time\u001B[38;5;241m=\u001B[39mdatetime\u001B[38;5;241m.\u001B[39mdatetime\u001B[38;5;241m.\u001B[39mstrptime(cyc[\u001B[38;5;124m\"\u001B[39m\u001B[38;5;124mend_time\u001B[39m\u001B[38;5;124m\"\u001B[39m],\u001B[38;5;124m\"\u001B[39m\u001B[38;5;124m%\u001B[39m\u001B[38;5;124mY-\u001B[39m\u001B[38;5;124m%\u001B[39m\u001B[38;5;124mm-\u001B[39m\u001B[38;5;132;01m%d\u001B[39;00m\u001B[38;5;124m \u001B[39m\u001B[38;5;124m%\u001B[39m\u001B[38;5;124mH:\u001B[39m\u001B[38;5;124m%\u001B[39m\u001B[38;5;124mM\u001B[39m\u001B[38;5;124m\"\u001B[39m)\n\u001B[0;32m     55\u001B[0m         act_duration\u001B[38;5;241m=\u001B[39m(end_time\u001B[38;5;241m-\u001B[39mstart_time)\u001B[38;5;241m.\u001B[39mseconds\n\u001B[1;32m---> 56\u001B[0m         cycs[y][\u001B[38;5;124m\"\u001B[39m\u001B[38;5;124mpath\u001B[39m\u001B[38;5;124m\"\u001B[39m]\u001B[38;5;241m=\u001B[39m\u001B[43mgetCyclingPath\u001B[49m\u001B[43m(\u001B[49m\u001B[43mcyc\u001B[49m\u001B[43m[\u001B[49m\u001B[38;5;124;43m\"\u001B[39;49m\u001B[38;5;124;43mstart_pos\u001B[39;49m\u001B[38;5;124;43m\"\u001B[39;49m\u001B[43m]\u001B[49m\u001B[43m,\u001B[49m\u001B[43mcyc\u001B[49m\u001B[43m[\u001B[49m\u001B[38;5;124;43m\"\u001B[39;49m\u001B[38;5;124;43mend_pos\u001B[39;49m\u001B[38;5;124;43m\"\u001B[39;49m\u001B[43m]\u001B[49m\u001B[43m,\u001B[49m\u001B[43mact_duration\u001B[49m\u001B[43m,\u001B[49m\u001B[43mkeys\u001B[49m\u001B[43m[\u001B[49m\u001B[38;5;241;43m0\u001B[39;49m\u001B[43m]\u001B[49m\u001B[43m)\u001B[49m\n\u001B[0;32m     57\u001B[0m         bikeinfo[x][\u001B[38;5;124m\"\u001B[39m\u001B[38;5;124mcyclings\u001B[39m\u001B[38;5;124m\"\u001B[39m]\u001B[38;5;241m=\u001B[39mcycs\n\u001B[0;32m     58\u001B[0m \u001B[38;5;28;01mreturn\u001B[39;00m bikeinfo\n",
      "Cell \u001B[1;32mIn [8], line 35\u001B[0m, in \u001B[0;36mgetCyclingPath\u001B[1;34m(start_pos, end_pos, act_duration, key)\u001B[0m\n\u001B[0;32m     33\u001B[0m \u001B[38;5;28;01melse\u001B[39;00m:\n\u001B[0;32m     34\u001B[0m     \u001B[38;5;28mprint\u001B[39m(r\u001B[38;5;241m.\u001B[39mtext)\n\u001B[1;32m---> 35\u001B[0m     \u001B[38;5;28;01mraise\u001B[39;00m \u001B[38;5;167;01mException\u001B[39;00m(\u001B[38;5;124m\"\u001B[39m\u001B[38;5;124mAPI Exception\u001B[39m\u001B[38;5;124m\"\u001B[39m)\n",
      "\u001B[1;31mException\u001B[0m: API Exception"
     ]
    }
   ],
   "source": [
    "import requests,json,pickle\n",
    "'''\n",
    "获取骑行规划\n",
    "持久化该过程得到的变量\n",
    "'''\n",
    "def getCyclingPath(start_pos,end_pos,act_duration,key):\n",
    "    \"\"\"\n",
    "    利用高德地图API，查找起点到终点的路线，选择第一条为最优路线\n",
    "    提取返回结果中的polylines，返回路径点列表\n",
    "    \"\"\"\n",
    "    if start_pos[0]<start_pos[1]:\n",
    "        start_pos.reverse()\n",
    "    if end_pos[0]<end_pos[1]:\n",
    "        end_pos.reverse()\n",
    "\n",
    "    url=\"https://restapi.amap.com/v4/direction/bicycling\"\n",
    "    params={\n",
    "        \"key\":key,\n",
    "        \"origin\":','.join([str(i) for i in start_pos]),\n",
    "        \"destination\":','.join([str(i) for i in end_pos]),\n",
    "    }\n",
    "    r=requests.get(url,params=params)\n",
    "    rdata=json.loads(r.text)\n",
    "    if rdata[\"errcode\"]==0:\n",
    "        rpaths=rdata[\"data\"][\"paths\"]\n",
    "        rdurations=[abs(int(i[\"duration\"])-act_duration) for i in rpaths]#计算规划时长与实际时长的差值\n",
    "        path_index=rdurations.index(min(rdurations))\n",
    "        steps=rpaths[path_index][\"steps\"]\n",
    "        points=[]\n",
    "        for step in steps:\n",
    "            points+=step[\"polyline\"].split(';')\n",
    "        return {\"paths\":points,\"act_duration\":act_duration,\"duration\":rpaths[path_index][\"duration\"],\"distance\":rpaths[path_index][\"distance\"]}\n",
    "    else:\n",
    "        print(r.text)\n",
    "        raise Exception(\"API Exception\")\n",
    "        \n",
    "import time,datetime\n",
    "def addCyclingPaths(bikeinfo):\n",
    "    '''\n",
    "    将路径信息添加到原字典中\n",
    "    '''\n",
    "    keys=[\n",
    "        \"69e8d3a2002eec46b1a73a7becd320dc\",\n",
    "    ]\n",
    "\n",
    "    count=0\n",
    "    spoint=time.time()\n",
    "    for x,item in enumerate(bikeinfo):\n",
    "        cycs=item[\"cyclings\"]\n",
    "        for y,cyc in enumerate(cycs):\n",
    "            count+=1\n",
    "            print(\"%s正在获取第%s辆车辆%s 的第%s次骑行路径,已用时%ss.\"%(count,x+1,item[\"bikeno\"],y+1,int(time.time()-spoint)),end='\\r')\n",
    "            start_time=datetime.datetime.strptime(cyc[\"start_time\"],\"%Y-%m-%d %H:%M\")\n",
    "            end_time=datetime.datetime.strptime(cyc[\"end_time\"],\"%Y-%m-%d %H:%M\")\n",
    "            act_duration=(end_time-start_time).seconds\n",
    "            cycs[y][\"path\"]=getCyclingPath(cyc[\"start_pos\"],cyc[\"end_pos\"],act_duration,keys[0])\n",
    "            bikeinfo[x][\"cyclings\"]=cycs\n",
    "    return bikeinfo\n",
    "\n",
    "\n",
    "all_cyclings_pos = pickle.load(open(\"all_cyclings_pos.pkl\", \"rb\"))#加载骑行信息\n",
    "all_cyclings_paths=addCyclingPaths(all_cyclings_pos)#获取骑行规划\n",
    "pickle.dump(all_cyclings_paths, open(\"all_cyclings_paths.pkl\", \"wb\"))#持久化变量"
   ]
  },
  {
   "cell_type": "code",
   "execution_count": 6,
   "metadata": {
    "collapsed": true
   },
   "outputs": [
    {
     "data": {
      "text/plain": "{'bikeno': 9030189057, 'cyclings': []}"
     },
     "execution_count": 6,
     "metadata": {},
     "output_type": "execute_result"
    }
   ],
   "source": [
    "all_cyclings_paths2 = pickle.load(open(\"all_cyclings_paths.pkl\", \"rb\"))#加载骑行路径信息\n",
    "all_cyclings_paths2[0]#查看一条记录"
   ]
  }
 ],
 "metadata": {
  "kernelspec": {
   "display_name": "Python 3",
   "language": "python",
   "name": "python3"
  },
  "language_info": {
   "codemirror_mode": {
    "name": "ipython",
    "version": 3
   },
   "file_extension": ".py",
   "mimetype": "text/x-python",
   "name": "python",
   "nbconvert_exporter": "python",
   "pygments_lexer": "ipython3",
   "version": "3.6.2"
  }
 },
 "nbformat": 4,
 "nbformat_minor": 2
}
